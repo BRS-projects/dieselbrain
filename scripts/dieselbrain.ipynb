{
 "cells": [
  {
   "cell_type": "code",
   "id": "initial_id",
   "metadata": {
    "collapsed": true,
    "ExecuteTime": {
     "end_time": "2025-07-20T17:43:36.979712Z",
     "start_time": "2025-07-20T17:43:36.920419Z"
    }
   },
   "source": [
    "import pandas as pd\n",
    "from pathlib import Path\n",
    "from collections import Counter\n",
    "import os\n",
    "import csv\n",
    "\n",
    "log_dir = Path(\"../logs\")\n",
    "log_files = list(log_dir.glob(\"Log*.csv\"))\n",
    "print(f\"found {len(log_files)} logs\")\n",
    "\n",
    "#start to deal with the differing headers - bearing in mind that there are some non-ascii symbols like degree signs\n",
    "\n",
    "raw_headers = []\n",
    "\n",
    "for file in log_files:\n",
    "    try:\n",
    "        with file.open('r', encoding='utf-8') as f:\n",
    "            first_line = f.readline().strip() #strip off the newlines including carriage returns (visual inspection of some logs showed this was present occasionally)\n",
    "            raw_headers.append(first_line)\n",
    "    except Exception as e:  #some error handling\n",
    "        print(f\"failed to read {file}: {e}\")\n",
    "\n",
    "#count unique header sets for general information\n",
    "header_count = Counter(raw_headers)\n",
    "dir(header_count)\n",
    "#read out what the unique headers are.  There are some that are in different orders, and some which contain different cols etc\n",
    "print(\"\\n=== raw header sets by count ===\")\n",
    "for header, count in header_count.most_common():\n",
    "    print(f\"{count} | {header[:80]}...\") #cut down the readout so as not to blow out this cell - the actual full headers and counts will be dropped in a file once they are standardised a bit\n",
    "\n",
    "standardised =[]\n",
    "for line in raw_headers:\n",
    "    fields = line.split(',')\n",
    "    norm = \",\".join(sorted(fields)) #sort alphabetically\n",
    "    standardised.append(norm)\n",
    "\n",
    "standardised_count = Counter(standardised)\n",
    "\n",
    "print(\"\\n=== standardised header sets by count\")\n",
    "for norm, count in standardised_count.most_common():\n",
    "    print(f\"{count} | {norm[:80]}...\") #truncate for same reason as above\n",
    "\n",
    "#sure enough, this changed the counts a bit.  That tells me that some of the logs have different\n",
    "#drop these standardised headers into a file for a visual once-over.\n",
    "standardised_count_df = pd.DataFrame.from_records(\n",
    "    list(standardised_count.items()),\n",
    "    columns=[\"standardised_header\", \"count\"]\n",
    ").sort_values(by=\"count\", ascending=False)\n",
    "\n",
    "#file is to be used in sublime text with rainbowcsv for inspection.  quotes need to be turned off\n",
    "header_path = Path(\"standardised_header_set.csv\")\n",
    "standardised_count_df.to_csv(header_path, index=False, quoting=csv.QUOTE_NONE, escapechar='\\\\')"
   ],
   "outputs": [
    {
     "name": "stdout",
     "output_type": "stream",
     "text": [
      "found 124 logs\n",
      "\n",
      "=== raw header sets by count ===\n",
      "69 | Time,Coolant temperature ° C,Exhaust gas temperature in front of the DPF ° C,Eng...\n",
      "11 | Time,Coolant temperature ° C,Exhaust gas temperature in front of the DPF ° C,Eng...\n",
      "10 | Time,Coolant temperature ° C,Exhaust gas temperature in front of the DPF ° C,Eng...\n",
      "8 | Time,Coolant temperature ° C,Exhaust gas temperature in front of the DPF ° C,Eng...\n",
      "5 | Time,Coolant temperature ° C,Exhaust gas temperature in front of the DPF ° C,Eng...\n",
      "5 | Time,Coolant temperature ° C,Exhaust gas temperature in front of the DPF ° C,Eng...\n",
      "5 | Time,Coolant temperature ° C,Exhaust gas temperature in front of the DPF ° C,Eng...\n",
      "4 | Time,Coolant temperature ° C,Exhaust gas temperature in front of the DPF ° C,Eng...\n",
      "2 | Time,Coolant temperature ° C,Exhaust gas temperature in front of the DPF ° C,Eng...\n",
      "2 | Time,Coolant temperature ° C,Exhaust gas temperature in front of the DPF ° C,Eng...\n",
      "1 | Time,Boost pressure bar...\n",
      "1 | Time,Exhaust gas temperature in front of the DPF ° C,Soot mass in DPF g,Exhaust ...\n",
      "1 | Time,Coolant temperature ° C,Exhaust gas temperature in front of the DPF ° C,Eng...\n",
      "\n",
      "=== standardised header sets by count\n",
      "69 | Actual value of oil pressure bar,Amount of fuel consumed ul,Base boost pressure ...\n",
      "19 | Boost pressure bar,Coolant temperature ° C,Differential pressure across DPF bar,...\n",
      "10 | Amount of fuel consumed ul,Boost pressure bar,Calculated load value (OBD PID 04)...\n",
      "5 | Boost pressure bar,Control deviation of the EGR rate,Coolant temperature ° C,Dif...\n",
      "5 | Actual value of oil pressure bar,Amount of fuel consumed ul,Boost pressure bar,C...\n",
      "5 | Actual value of oil pressure bar,Amount of fuel consumed ul,Base boost pressure ...\n",
      "4 | Amount of fuel consumed ul,Boost pressure bar,Control deviation of the EGR rate,...\n",
      "2 | Amount of fuel consumed ul,Boost pressure bar,Calculated load value (OBD PID 04)...\n",
      "2 | Actual value of oil pressure bar,Amount of fuel consumed ul,Base boost pressure ...\n",
      "1 | Boost pressure bar,Time...\n",
      "1 | Differential pressure across DPF bar,Exhaust gas temperature in front of the DPF...\n",
      "1 | Amount of fuel consumed ul,Boost pressure bar,Calculated load value (OBD PID 04)...\n"
     ]
    }
   ],
   "execution_count": 22
  },
  {
   "metadata": {},
   "cell_type": "markdown",
   "source": "",
   "id": "9bcaede5bccc061c"
  },
  {
   "metadata": {},
   "cell_type": "code",
   "outputs": [],
   "execution_count": null,
   "source": "",
   "id": "da90521131dd9542"
  }
 ],
 "metadata": {
  "kernelspec": {
   "display_name": "Python 3",
   "language": "python",
   "name": "python3"
  },
  "language_info": {
   "codemirror_mode": {
    "name": "ipython",
    "version": 2
   },
   "file_extension": ".py",
   "mimetype": "text/x-python",
   "name": "python",
   "nbconvert_exporter": "python",
   "pygments_lexer": "ipython2",
   "version": "2.7.6"
  }
 },
 "nbformat": 4,
 "nbformat_minor": 5
}
